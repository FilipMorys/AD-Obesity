{
 "cells": [
  {
   "cell_type": "code",
   "execution_count": null,
   "metadata": {},
   "outputs": [],
   "source": [
    "library(lmPerm)\n",
    "library(psych)\n",
    "library(car)\n",
    "library(ggplot2)\n",
    "library(lme4)\n",
    "library(mediation)\n",
    "#install.packages('MatchIt')\n",
    "library(MatchIt)\n",
    "library(dplyr)\n",
    "library(ukbtools)\n",
    "library(lavaan)\n",
    "#install.packages('fsbrain')\n",
    "#library(fsbrain)"
   ]
  },
  {
   "cell_type": "code",
   "execution_count": null,
   "metadata": {},
   "outputs": [],
   "source": [
    "ADNI=read.table('/dagher/dagher11/filip/OBAD/data/missing_listafter_QC.csv',sep=',', header=T)\n",
    "colnames(ADNI)=c('ID','List','Available','Group','Group2','Years','Age','Sex','Weight','Height','BMI')\n",
    "ADNI=select(ADNI, ID, Group, Group2, Available, Years, Age, Sex, Weight, Height, BMI)\n",
    "ADNI=subset(ADNI, (ADNI$Group=='CON' & ADNI$Group2=='CON') | (ADNI$Group=='AD' & ADNI$Group2=='AD') \n",
    "            | (ADNI$Group=='AD' & ADNI$Group2=='') | (ADNI$Group=='CON' & ADNI$Group2==''))\n",
    "ADNI=na.omit(ADNI)\n",
    "ADNI=subset(ADNI, ADNI$Available==1)"
   ]
  },
  {
   "cell_type": "code",
   "execution_count": null,
   "metadata": {},
   "outputs": [],
   "source": [
    "di=read.table('/dagher/dagher11/filip/PRSOB/data/brain_data_table.csv', header=TRUE, na.strings = \"\", sep=',', quote = \"\\\"\")\n",
    "\n",
    "### Exclude outliers - bipolar disorder - self-reported\n",
    "di$bipolar_dis <- NA\n",
    "di$bipolar_dis[di$bipolar_disorder_status_f20122_0_0==\"Bipolar Type I (Mania)\"] <- 1\n",
    "di$bipolar_dis[di$bipolar_disorder_status_f20122_0_0==\"Bipolar Type II (Hypomania)\"] <- 1\n",
    "\n",
    "# Mental health issues - self-reported\n",
    "exclusions_mhi=c('Schizophrenia','Depression','Mania, hypomania, bipolar of manic-depression','Bulimia nervosa',\n",
    "                'Anorexia nervosa','Attention deficit or attention deficit and hyperactivity disorder',\n",
    "                'Panic attacks','A personality disorder','Obsessive compulsive disorder (OCD)',\n",
    "                'Psychological over-eating or binge-eating',\"Autism, Asperger's or autistic spectrum disorder\",\n",
    "                'Anxiety, nerves or generalized anxiety disorder','Agoraphobia','Social anxiety or social phobia',\n",
    "                'Any other type of psychosis or psychotic illness')\n",
    "\n",
    "di$mental_health_issue <- NA\n",
    "for (i in as.numeric(grep('mental_health_problems_ever_diagnosed_by_a_professional', colnames(di)))) {\n",
    "    for (d in 1:length(exclusions_mhi)) {\n",
    "        di$mental_health_issue[grepl(exclusions_mhi[d], di[[i]])] = 1\n",
    "    }\n",
    "}\n",
    "\n",
    "\n",
    "# Mark participants who have diabetes - self-reported\n",
    "di$diabetes <- NA\n",
    "for (i in as.numeric(grep('diabetes_diagnosed_by_doctor', colnames(di)))) { \n",
    "    di$diabetes[di[i] ==\"Yes\"] <- 1\n",
    "}\n",
    "\n",
    "# Mark participants who have diabetes - diagnoses\n",
    "exclusions_diabetes=c('^E10','^E11','^E12','^E13','^E14')\n",
    "di$diabetes2 <- NA\n",
    "for (i in as.numeric(grep('icd10', colnames(di)))) {\n",
    "    for (d in 1:length(exclusions_diabetes)) {\n",
    "        di$diabetes2[grepl(exclusions_diabetes[d], di[[i]])] = 1\n",
    "    }\n",
    "}\n",
    "\n",
    "# Mark participants with hypertension - self-reported\n",
    "di$hypertension <- NA\n",
    "for (i in as.numeric(grep('vascularheart_problems_diagnosed_by_doctor', colnames(di)))) { \n",
    "    di$hypertension[di[i] == 'High blood pressure'] <- 1 # Hypertension\n",
    "}\n",
    "\n",
    "\n",
    "# Mark participants with hypertension - diagnosed\n",
    "di$hypertension2 <- NA\n",
    "for (i in as.numeric(grep('icd10', colnames(di)))) { \n",
    "    di$hypertension2[di[i] == 'I10 Essential (primary) hypertension'] <- 1 # Hypertension\n",
    "    }\n",
    "\n",
    "# Exclude participants who had a heart attack, angina or stroke - self-reported\n",
    "exclusions_vd=c('Angina','Heart attack','Stroke')\n",
    "di$vascular_heart_diagnoses <- NA\n",
    "for (i in as.numeric(grep('vascularheart_problems_diagnosed_by_doctor', colnames(di)))) {\n",
    "    for (d in 1:length(exclusions_vd)) {\n",
    "        di$vascular_heart_diagnoses[grepl(exclusions_vd[d], di[[i]])] = 1\n",
    "    }\n",
    "}\n",
    "             \n",
    "exclusions_neuro=c('^G','^F','^E0','^E10','^E2','^E3','^A8','^C70','^C71','^C72','^I6')\n",
    "# G - nervous system; F - Mental and behavioural; E0 - thyroid; E11-14 - diabetes, E2-3 endocrine glands; \n",
    "# A8 - viral infections of the CNS; C70-72 malignant neoplasms of brain, meninges and spinal cord; I6 - cerebrovscular\n",
    "\n",
    "di$neurological_disorder = NA\n",
    "for (i in as.numeric(grep('icd10', colnames(di)))) {\n",
    "    for (d in 1:length(exclusions_neuro)) {\n",
    "        di$neurological_disorder[grepl(exclusions_neuro[d], di[[i]])] = 1\n",
    "    }\n",
    "}\n",
    "\n",
    "#If BMI < 18.5 \n",
    "di$underweight=NA\n",
    "di$underweight[di$body_mass_index_bmi_21001.0.0 < 18.5] <- 1\n",
    "\n",
    "#Exclude participants if bipolar_dis == 1; personality_dis == 1; mhi == 1; \n",
    "#    vascular_heart_diagnoses ==1, underweight == 1 and neurological ==1\n",
    "\n",
    "di$excluded <- NA\n",
    "#di$excluded[di$bipolar_dis ==1] <- 1\n",
    "#di$excluded[di$mental_health_issue == 1] <- 1\n",
    "#di$excluded[di$vascular_heart_diagnoses ==1] <- 1\n",
    "#di$excluded[di$underweight == 1] <- 1\n",
    "di$excluded[di$neurological_disorder ==1] <- 1\n",
    "\n",
    "di$included<-car::recode(di$excluded, \"1='excluded'; else='included'\")\n",
    "\n",
    "#Select subjects if included ==1\n",
    "di_excluded <- subset(di, included==\"included\")\n",
    "\n",
    "ukbb_all=di_excluded\n",
    "\n",
    "nrow(ukbb_all)\n",
    "\n",
    "ukbb_all$Hypertension=0\n",
    "ukbb_all$Hypertension[ukbb_all$hypertension=='1' | ukbb_all$hypertension2=='1']=1\n",
    "ukbb_all$Diabetes=0\n",
    "ukbb_all$Diabetes[ukbb_all$diabetes=='1' | ukbb_all$diabetes2=='1']=1\n",
    "ukbb_all$WHR = ukbb_all$waist_circumference_48.0.0/ukbb_all$hip_circumference_49.0.0\n",
    "ukbb_all$agesq=ukbb_all$age_when_attended_assessment_centre_21003.2.0^2\n",
    "\n",
    "UKBB=ukbb_all\n"
   ]
  },
  {
   "cell_type": "markdown",
   "metadata": {},
   "source": [
    "## Drop non-imaging participants from UKB"
   ]
  },
  {
   "cell_type": "code",
   "execution_count": null,
   "metadata": {},
   "outputs": [],
   "source": [
    "UKBB=UKBB[!is.na(UKBB$mean_thickness_of_caudalanteriorcingulate_left_hemisphere_27174.2.0),]"
   ]
  },
  {
   "cell_type": "code",
   "execution_count": null,
   "metadata": {},
   "outputs": [],
   "source": [
    "write.table(UKBB,'/dagher/dagher11/filip/OBAD/data/UKBB_fullsample_excluded.csv',sep=' ', quote=T)"
   ]
  },
  {
   "cell_type": "markdown",
   "metadata": {},
   "source": [
    "## Create categories in ADNI and UKB:\n",
    "1. AD Obese\n",
    "2. AD Lean\n",
    "3. Controls Obese\n",
    "4. Controls Lean\n",
    "\n",
    "1. Obese\n",
    "2. Lean"
   ]
  },
  {
   "cell_type": "code",
   "execution_count": null,
   "metadata": {},
   "outputs": [],
   "source": [
    "set.seed(2010)\n",
    "ADNI$Sample[ADNI$BMI>30 & ADNI$Group=='AD']='ADOB'\n",
    "ADNI$Sample[ADNI$BMI<25 & ADNI$Group=='AD']='ADLE'\n",
    "ADNI$Sample[ADNI$BMI>30 & ADNI$Group=='CON']='CONOB'\n",
    "ADNI$Sample[ADNI$BMI<25 & ADNI$Group=='CON']='CONLE'\n",
    "ADNI=ADNI[!(is.na(ADNI$Sample)),]\n",
    "ADNI$Sex=as.factor(ADNI$Sex)\n",
    "\n",
    "UKBB$Sample[UKBB$body_mass_index_bmi_21001.2.0>30]='OB'\n",
    "UKBB$Sample[UKBB$body_mass_index_bmi_21001.2.0<25]='LE'\n",
    "\n",
    "ADNI_AD=select(ADNI, ID, Age, Sex, BMI, Sample)\n",
    "\n",
    "UKBB_AD=select(UKBB, eid, age_when_attended_assessment_centre_21003.2.0, sex_31.0.0, \n",
    "               body_mass_index_bmi_21001.2.0, Sample)\n",
    "colnames(UKBB_AD)=c('ID', 'Age','Sex','BMI','Sample')\n",
    "UKBB_AD$Sex<-car::recode(UKBB_AD$Sex, \"'Female'=0; 'Male'=1\")\n",
    "UKBB_AD=UKBB_AD[!(is.na(UKBB_AD$Sample)),]"
   ]
  },
  {
   "cell_type": "markdown",
   "metadata": {},
   "source": [
    "## Match participants within ADNI:\n",
    "1. ADOB with CONOB\n",
    "2. ADLE with CONLE"
   ]
  },
  {
   "cell_type": "code",
   "execution_count": null,
   "metadata": {
    "scrolled": true
   },
   "outputs": [],
   "source": [
    "Match=ADNI_AD\n",
    "Match=Match[!(Match$Sample!='ADOB' & Match$Sample!='CONOB'),]\n",
    "Match$Log <- as.logical(Match$Sample == 'ADOB')\n",
    "matched_groups <- matchit(Log ~  BMI + Age + Sex, data = Match, method=\"nearest\")\n",
    "summary(matched_groups, standardize = TRUE)\n",
    "matched_ad <- match.data(matched_groups)\n",
    "matched_adob=matched_ad[-(6:9)]\n",
    "\n",
    "Match=ADNI_AD\n",
    "Match=Match[!(Match$Sample!='ADLE' & Match$Sample!='CONLE'),]\n",
    "Match=na.omit(Match)\n",
    "Match$Log <- as.logical(Match$Sample == 'CONLE') ## Because there is more AD than CON\n",
    "matched_groups <- matchit(Log ~  BMI + Age + Sex, data = Match, method=\"nearest\")\n",
    "summary(matched_groups, standardize = TRUE)\n",
    "matched_ad <- match.data(matched_groups)\n",
    "matched_adle=matched_ad[-(6:9)]"
   ]
  },
  {
   "cell_type": "markdown",
   "metadata": {},
   "source": [
    "# Match UKB OB with ADNI ADOB participants and LE with ADNI CONLE\n",
    "\n",
    "### DF for comparisons with ADOB\n",
    "1. OB with ADOB\n",
    "2. LE with ADOB (without BMI)\n",
    "\n",
    "### DF for comparisons with ADLE\n",
    "1. OB with ADLE (without BMI)\n",
    "2. LE with ADLE"
   ]
  },
  {
   "cell_type": "code",
   "execution_count": null,
   "metadata": {},
   "outputs": [],
   "source": [
    "Match=rbind(UKBB_AD,matched_adob)\n",
    "Match=Match[!(Match$Sample!='ADOB' & Match$Sample!='OB'),]\n",
    "Match$Log <- as.logical(Match$Sample == 'ADOB')\n",
    "matched_groups <- matchit(Log ~ BMI + Age + Sex, data = Match, method=\"nearest\", ratio=1) #20\n",
    "summary(matched_groups, standardize = TRUE)\n",
    "matched_ad <- match.data(matched_groups)\n",
    "matched_adob_ob=matched_ad\n",
    "\n",
    "Match=rbind(UKBB_AD,matched_adob)\n",
    "Match=Match[!(Match$Sample!='ADOB' & Match$Sample!='LE'),]\n",
    "Match$Log <- as.logical(Match$Sample == 'ADOB')\n",
    "matched_groups <- matchit(Log ~ Age + Sex, data = Match, method=\"nearest\", ratio=1) #20\n",
    "summary(matched_groups, standardize = TRUE)\n",
    "matched_ad <- match.data(matched_groups)\n",
    "matched_adob_le=matched_ad\n",
    "\n",
    "UKBB_matched_adob=rbind(matched_adob_ob[matched_adob_ob$Sample=='OB',],\n",
    "                       matched_adob_le[matched_adob_le$Sample=='LE',])\n",
    "\n",
    "\n",
    "Match=rbind(UKBB_AD,matched_adle)\n",
    "Match=Match[!(Match$Sample!='ADLE' & Match$Sample!='LE'),]\n",
    "Match$Log <- as.logical(Match$Sample == 'ADLE')\n",
    "matched_groups <- matchit(Log ~  BMI + Age + Sex, data = Match, method=\"nearest\", ratio=1) #23\n",
    "summary(matched_groups, standardize = TRUE)\n",
    "matched_ad <- match.data(matched_groups)\n",
    "matched_adle_le=matched_ad\n",
    "\n",
    "Match=rbind(UKBB_AD,matched_adle)\n",
    "Match=Match[!(Match$Sample!='ADLE' & Match$Sample!='OB'),]\n",
    "Match$Log <- as.logical(Match$Sample == 'ADLE')\n",
    "matched_groups <- matchit(Log ~ Age + Sex, data = Match, method=\"nearest\", ratio=1) #23\n",
    "summary(matched_groups, standardize = TRUE)\n",
    "matched_ad <- match.data(matched_groups)\n",
    "matched_adle_ob=matched_ad\n",
    "\n",
    "\n",
    "UKBB_matched_adle=rbind(matched_adle_ob[matched_adle_ob$Sample=='OB',],\n",
    "                       matched_adle_le[matched_adle_le$Sample=='LE',])"
   ]
  },
  {
   "cell_type": "markdown",
   "metadata": {},
   "source": [
    "## Match full AD sample, without differentiating between OB and LE"
   ]
  },
  {
   "cell_type": "code",
   "execution_count": null,
   "metadata": {},
   "outputs": [],
   "source": [
    "ADNI=read.table('/dagher/dagher11/filip/OBAD/data/missing_listafter_QC.csv',sep=',', header=T)\n",
    "colnames(ADNI)=c('ID','List','Available','Group','Group2','Years','Age','Sex','Weight','Height','BMI')\n",
    "ADNI=select(ADNI, ID, Group, Group2, Available, Years, Age, Sex, Weight, Height, BMI)\n",
    "ADNI=subset(ADNI, (ADNI$Group=='CON' & ADNI$Group2=='CON') | (ADNI$Group=='AD' & ADNI$Group2=='AD') \n",
    "            | (ADNI$Group=='AD' & ADNI$Group2=='') | (ADNI$Group=='CON' & ADNI$Group2==''))\n",
    "ADNI=na.omit(ADNI)\n",
    "ADNI=subset(ADNI, ADNI$Available==1)\n",
    "nrow(ADNI)"
   ]
  },
  {
   "cell_type": "code",
   "execution_count": null,
   "metadata": {
    "scrolled": true
   },
   "outputs": [],
   "source": [
    "Match=ADNI\n",
    "Match$Sample=Match$Group\n",
    "Match=Match[!(Match$Group!='AD' & Match$Group!='CON'),]\n",
    "Match=na.omit(Match)\n",
    "Match$Log <- as.logical(Match$Group == 'AD')\n",
    "matched_groups <- matchit(Log ~  BMI + Age + Sex, data = Match, method=\"nearest\")\n",
    "summary(matched_groups, standardize = TRUE)\n",
    "matched_ad <- match.data(matched_groups)\n",
    "matched_ad_full=select(matched_ad, ID, Age, Sex, BMI, Sample)"
   ]
  },
  {
   "cell_type": "markdown",
   "metadata": {},
   "source": [
    "## Save IDs"
   ]
  },
  {
   "cell_type": "code",
   "execution_count": null,
   "metadata": {},
   "outputs": [],
   "source": [
    "All_IDs=rbind(matched_ad_full, matched_adle, matched_adob)"
   ]
  },
  {
   "cell_type": "code",
   "execution_count": null,
   "metadata": {},
   "outputs": [],
   "source": [
    "IDs=(All_IDs[!duplicated(All_IDs$ID),])\n",
    "IDs=select(IDs, ID)"
   ]
  },
  {
   "cell_type": "code",
   "execution_count": null,
   "metadata": {},
   "outputs": [],
   "source": [
    "write.table(IDs, '/dagher/dagher11/filip/OBAD/data/IDs_afterQC.csv', sep=',')"
   ]
  },
  {
   "cell_type": "markdown",
   "metadata": {},
   "source": [
    "## Match UKB participants to full AD sample - both obese and lean but without matching for BMI this time"
   ]
  },
  {
   "cell_type": "code",
   "execution_count": null,
   "metadata": {
    "scrolled": true
   },
   "outputs": [],
   "source": [
    "Match=rbind(UKBB_AD,matched_ad_full)\n",
    "Match=Match[!(Match$Sample!='AD' & Match$Sample!='OB'),]\n",
    "Match$Log <- as.logical(Match$Sample == 'AD')\n",
    "matched_groups <- matchit(Log ~  Age + Sex, data = Match, method=\"nearest\", ratio=1) # 8\n",
    "summary(matched_groups, standardize = TRUE)\n",
    "matched_ad <- match.data(matched_groups)\n",
    "matched_adob_ob=matched_ad\n",
    "\n",
    "Match=rbind(UKBB_AD,matched_ad_full)\n",
    "Match=Match[!(Match$Sample!='CON' & Match$Sample!='LE'),]\n",
    "Match$Log <- as.logical(Match$Sample == 'CON')\n",
    "matched_groups <- matchit(Log ~ Age + Sex, data = Match, method=\"nearest\", ratio=1) # 9\n",
    "summary(matched_groups, standardize = TRUE)\n",
    "matched_ad <- match.data(matched_groups)\n",
    "matched_adob_le=matched_ad\n",
    "\n",
    "UKBB_matched_full=rbind(matched_adob_ob[matched_adob_ob$Sample=='OB',],\n",
    "                       matched_adob_le[matched_adob_le$Sample=='LE',])"
   ]
  },
  {
   "cell_type": "markdown",
   "metadata": {},
   "source": [
    "# 6 dataframes:\n",
    "* matched_adob\n",
    "* matched_adle\n",
    "* matched_ad_full\n",
    "* UKBB_matched_adob\n",
    "* UKBB_matched_adle\n",
    "* UKBB_matched_full"
   ]
  },
  {
   "cell_type": "code",
   "execution_count": null,
   "metadata": {},
   "outputs": [],
   "source": [
    "write.table(matched_adob,'/dagher/dagher11/filip/OBAD/data/matched_adob_QC.csv',row.names=F,col.names=T, quote=F)\n",
    "write.table(matched_adle,'/dagher/dagher11/filip/OBAD/data/matched_adle_QC.csv',row.names=F,col.names=T, quote=F)\n",
    "write.table(matched_ad_full,'/dagher/dagher11/filip/OBAD/data/matched_ad_full_QC.csv',row.names=F,col.names=T, quote=F)\n",
    "write.table(UKBB_matched_adob,'/dagher/dagher11/filip/OBAD/data/UKBB_matched_adob_QC.csv',row.names=F,col.names=T, quote=F)\n",
    "write.table(UKBB_matched_adle,'/dagher/dagher11/filip/OBAD/data/UKBB_matched_adle_QC.csv',row.names=F,col.names=T, quote=F)\n",
    "write.table(UKBB_matched_full,'/dagher/dagher11/filip/OBAD/data/UKBB_matched_full_QC.csv',row.names=F,col.names=T, quote=F)"
   ]
  },
  {
   "cell_type": "markdown",
   "metadata": {},
   "source": [
    "## Get ethnicity table for the full sample"
   ]
  },
  {
   "cell_type": "markdown",
   "metadata": {},
   "source": [
    "### UKBB"
   ]
  },
  {
   "cell_type": "code",
   "execution_count": null,
   "metadata": {},
   "outputs": [],
   "source": [
    "IDs=read.table('/dagher/dagher11/filip/OBAD/data/UKBB_matched_full_QC.csv', header=T)"
   ]
  },
  {
   "cell_type": "code",
   "execution_count": null,
   "metadata": {},
   "outputs": [],
   "source": [
    "Ethn=merge(UKBB, IDs, by.x='eid',by.y='ID', all.y=T)"
   ]
  },
  {
   "cell_type": "code",
   "execution_count": null,
   "metadata": {},
   "outputs": [],
   "source": [
    "Ethn_UKB=data.frame('Cohort'='UKB','Ethnic_background'=Ethn$ethnic_background_21000.0.0)"
   ]
  },
  {
   "cell_type": "code",
   "execution_count": null,
   "metadata": {},
   "outputs": [],
   "source": [
    "unique(Ethn$ethnic_background_21000.0.0)"
   ]
  },
  {
   "cell_type": "code",
   "execution_count": null,
   "metadata": {},
   "outputs": [],
   "source": [
    "Ethn_UKB$Ethnic_background=dplyr::recode(Ethn_UKB$Ethnic_background, 'British'='White',\n",
    "                                        'Any other white background'='White',\n",
    "                                        'Irish'='White',\n",
    "                                        'Prefer not to answer'='Unknown',)"
   ]
  },
  {
   "cell_type": "markdown",
   "metadata": {},
   "source": [
    "### ADNI"
   ]
  },
  {
   "cell_type": "code",
   "execution_count": null,
   "metadata": {},
   "outputs": [],
   "source": [
    "IDs_ADNI=read.table('/dagher/dagher11/filip/OBAD/data/matched_ad_full_QC.csv', header=T)\n",
    "Dem_ADNI=read.table('/dagher/dagher11/filip/Downloads/PTDEMOG.csv', sep=',', header=T)\n",
    "ADNI_dict=select(read.table('/dagher/dagher11/filip/OBAD/data/adni_characteristics.csv', header=T, sep=','), \n",
    "                 patient_id, rid)\n",
    "colnames(ADNI_dict)=c('ID','RID')"
   ]
  },
  {
   "cell_type": "code",
   "execution_count": null,
   "metadata": {},
   "outputs": [],
   "source": [
    "IDs_ADNI=merge(IDs_ADNI,ADNI_dict, by='ID', all.x=T)"
   ]
  },
  {
   "cell_type": "code",
   "execution_count": null,
   "metadata": {},
   "outputs": [],
   "source": [
    "ADNI_ethn=merge(IDs_ADNI, Dem_ADNI, by='RID', all.x=T)\n",
    "ADNI_ethn=ADNI_ethn[!duplicated(ADNI_ethn$RID),]\n"
   ]
  },
  {
   "cell_type": "code",
   "execution_count": null,
   "metadata": {},
   "outputs": [],
   "source": [
    "Ethn_ADNI=data.frame('Cohort'='ADNI','Ethnic_background'=ADNI_ethn$PTRACCAT)"
   ]
  },
  {
   "cell_type": "code",
   "execution_count": null,
   "metadata": {},
   "outputs": [],
   "source": [
    "Ethn_ADNI$Ethnic_background=dplyr::recode(Ethn_ADNI$Ethnic_background, '5'='White',\n",
    "                                        '1'='American Indian/Alaskan',\n",
    "                                        '4'='African',\n",
    "                                        '2'='Asian',\n",
    "                                         '3'='Hawaiian/Pacific Islander',\n",
    "                                         '7'='Unknown',\n",
    "                                         '6'='More than 1',\n",
    "                                         '-4'='Unknown')"
   ]
  },
  {
   "cell_type": "markdown",
   "metadata": {},
   "source": [
    "### Compare ethnicities between full samples"
   ]
  },
  {
   "cell_type": "code",
   "execution_count": null,
   "metadata": {},
   "outputs": [],
   "source": [
    "Ethnicities_bothsamples=rbind(Ethn_ADNI, Ethn_UKB)\n"
   ]
  },
  {
   "cell_type": "code",
   "execution_count": null,
   "metadata": {},
   "outputs": [],
   "source": [
    "with(Ethnicities_bothsamples, chisq.test(Cohort,Ethnic_background))"
   ]
  },
  {
   "cell_type": "code",
   "execution_count": null,
   "metadata": {},
   "outputs": [],
   "source": []
  }
 ],
 "metadata": {
  "kernelspec": {
   "display_name": "R [conda env:R] *",
   "language": "R",
   "name": "conda-env-R-r"
  },
  "language_info": {
   "codemirror_mode": "r",
   "file_extension": ".r",
   "mimetype": "text/x-r-source",
   "name": "R",
   "pygments_lexer": "r",
   "version": "3.6.1"
  }
 },
 "nbformat": 4,
 "nbformat_minor": 2
}
