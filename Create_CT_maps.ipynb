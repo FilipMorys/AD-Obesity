{
 "cells": [
  {
   "cell_type": "code",
   "execution_count": null,
   "metadata": {},
   "outputs": [],
   "source": [
    "#install.packages('lmPerm')\n",
    "library(lmPerm)\n",
    "#install.packages('psych')\n",
    "library(psych)\n",
    "#install.packages('car')\n",
    "library(car)\n",
    "#install.packages('ggplot2')\n",
    "library(ggplot2)\n",
    "#install.packages('lme4')\n",
    "library(lme4)\n",
    "#install.packages('mediation')\n",
    "library(mediation)\n",
    "#install.packages('MatchIt')\n",
    "#library(MatchIt)\n",
    "#install.packages('dplyr')\n",
    "library(dplyr)\n",
    "#install.packages('ukbtools')\n",
    "library(ukbtools)\n",
    "#install.packages('lavaan')\n",
    "library(lavaan)\n",
    "#install.packages('fsbrain')\n",
    "#library(fsbrain)\n",
    "#install.packages('jmuOutlier')\n",
    "library('jmuOutlier')\n",
    "#install.packages('lm.beta')\n",
    "library(lm.beta)\n",
    "#install.packages('matrixStats')\n",
    "library(matrixStats)"
   ]
  },
  {
   "cell_type": "markdown",
   "metadata": {},
   "source": [
    "# Full sample"
   ]
  },
  {
   "cell_type": "code",
   "execution_count": null,
   "metadata": {},
   "outputs": [],
   "source": [
    "ADNI_thick=read.table('/dagher/dagher11/filip/OBAD/data/ADNI_thick_QC_raw.csv',sep=',', header=T)\n",
    "ADNI_rid=read.table('/dagher/dagher11/filip/OBAD/data/ADNI_Filip.csv',sep=',', header=T)\n",
    "ADNI_thick=merge(ADNI_thick,select(ADNI_rid, patient_id, rid))\n",
    "UKBB_thick=read.table('/dagher/dagher11/filip/OBAD/data/UKBB_fullsample_excluded.csv',sep=' ', header=T, quote='\"')\n",
    "ADNI_full=read.table('/dagher/dagher11/filip/OBAD/data/matched_ad_full_QC.csv',sep=' ', header=T)\n",
    "UKBB_full=read.table('/dagher/dagher11/filip/OBAD/data/UKBB_matched_full_QC.csv', sep=' ', header=T)\n",
    "ADNI_full=merge(ADNI_thick,ADNI_full,by.x='patient_id',by.y='ID',all.y=TRUE)\n",
    "UKBB_full=merge(UKBB_thick,UKBB_full,by.x='eid',by.y='ID',all.y=TRUE)"
   ]
  },
  {
   "cell_type": "code",
   "execution_count": null,
   "metadata": {},
   "outputs": [],
   "source": [
    "write.table(ADNI_full,'/dagher/dagher11/filip/OBAD/data/ADNI_full_ct.csv',row.names=F,col.names=T, quote=F, sep=',')\n",
    "write.table(UKBB_full,'/dagher/dagher11/filip/OBAD/data/UKBB_full_ct.csv',row.names=F,col.names=T, quote=T, sep=',')"
   ]
  },
  {
   "cell_type": "code",
   "execution_count": null,
   "metadata": {},
   "outputs": [],
   "source": [
    "mean(ADNI_full$bmi_bl[ADNI_full$dx_bl=='AD'], na.rm=T)\n",
    "mean(ADNI_full$bmi_bl[ADNI_full$dx_bl=='CON'], na.rm=T)\n",
    "mean(UKBB_full$body_mass_index_bmi_21001.2.0[UKBB_full$Sample=='LE'], na.rm=T)\n",
    "mean(UKBB_full$body_mass_index_bmi_21001.2.0[UKBB_full$Sample=='OB'], na.rm=T)\n",
    "\n",
    "table(ADNI_full$men[ADNI_full$dx_bl=='AD'])\n",
    "table(ADNI_full$men[ADNI_full$dx_bl=='CON'])\n",
    "table(UKBB_full$sex_31.0.0[UKBB_full$Sample=='LE'])\n",
    "table(UKBB_full$sex_31.0.0[UKBB_full$Sample=='OB'])"
   ]
  },
  {
   "cell_type": "markdown",
   "metadata": {},
   "source": [
    "## Plot cortical thickness maps"
   ]
  },
  {
   "cell_type": "code",
   "execution_count": null,
   "metadata": {},
   "outputs": [],
   "source": [
    "structs=c('lh.caudalanteriorcingulate_thickavg',\n",
    "'lh.caudalmiddlefrontal_thickavg',\n",
    "'lh.cuneus_thickavg',\n",
    "'lh.entorhinal_thickavg',\n",
    "'lh.fusiform_thickavg',\n",
    "'lh.inferiorparietal_thickavg',\n",
    "'lh.inferiortemporal_thickavg',\n",
    "'lh.isthmuscingulate_thickavg',\n",
    "'lh.lateraloccipital_thickavg',\n",
    "'lh.lateralorbitofrontal_thickavg',\n",
    "'lh.lingual_thickavg',\n",
    "'lh.medialorbitofrontal_thickavg',\n",
    "'lh.middletemporal_thickavg',\n",
    "'lh.parahippocampal_thickavg',\n",
    "'lh.paracentral_thickavg',\n",
    "'lh.parsopercularis_thickavg',\n",
    "'lh.parsorbitalis_thickavg',\n",
    "'lh.parstriangularis_thickavg',\n",
    "'lh.pericalcarine_thickavg',\n",
    "'lh.postcentral_thickavg',\n",
    "'lh.posteriorcingulate_thickavg',\n",
    "'lh.precentral_thickavg',\n",
    "'lh.precuneus_thickavg',\n",
    "'lh.rostralanteriorcingulate_thickavg',\n",
    "'lh.rostralmiddlefrontal_thickavg',\n",
    "'lh.superiorfrontal_thickavg',\n",
    "'lh.superiorparietal_thickavg',\n",
    "'lh.superiortemporal_thickavg',\n",
    "'lh.supramarginal_thickavg',\n",
    "'lh.transversetemporal_thickavg',\n",
    "'lh.insula_thickavg',\n",
    "'rh.caudalanteriorcingulate_thickavg',\n",
    "'rh.caudalmiddlefrontal_thickavg',\n",
    "'rh.cuneus_thickavg',\n",
    "'rh.entorhinal_thickavg',\n",
    "'rh.fusiform_thickavg',\n",
    "'rh.inferiorparietal_thickavg',\n",
    "'rh.inferiortemporal_thickavg',\n",
    "'rh.isthmuscingulate_thickavg',\n",
    "'rh.lateraloccipital_thickavg',\n",
    "'rh.lateralorbitofrontal_thickavg',\n",
    "'rh.lingual_thickavg',\n",
    "'rh.medialorbitofrontal_thickavg',\n",
    "'rh.middletemporal_thickavg',\n",
    "'rh.parahippocampal_thickavg',\n",
    "'rh.paracentral_thickavg',\n",
    "'rh.parsopercularis_thickavg',\n",
    "'rh.parsorbitalis_thickavg',\n",
    "'rh.parstriangularis_thickavg',\n",
    "'rh.pericalcarine_thickavg',\n",
    "'rh.postcentral_thickavg',\n",
    "'rh.posteriorcingulate_thickavg',\n",
    "'rh.precentral_thickavg',\n",
    "'rh.precuneus_thickavg',\n",
    "'rh.rostralanteriorcingulate_thickavg',\n",
    "'rh.rostralmiddlefrontal_thickavg',\n",
    "'rh.superiorfrontal_thickavg',\n",
    "'rh.superiorparietal_thickavg',\n",
    "'rh.superiortemporal_thickavg',\n",
    "'rh.supramarginal_thickavg',\n",
    "'rh.transversetemporal_thickavg',\n",
    "'rh.insula_thickavg')"
   ]
  },
  {
   "cell_type": "code",
   "execution_count": null,
   "metadata": {},
   "outputs": [],
   "source": [
    "Stats=matrix(nrow=length(grep('thickavg',colnames(ADNI_full))),ncol=5) # \n",
    "index=1\n",
    "\n",
    "ADNI_full$Sample=factor(ADNI_full$Sample, levels=c('CON','AD'),ordered=T)\n",
    "\n",
    "for (i in 1:length(structs)) { #\n",
    "  \n",
    "    model=(lm((ADNI_full[[grep(structs[i], colnames(ADNI_full))]]) ~\n",
    "                factor(Sample) + Age + factor(Sex) + factor(manufacturer) + factor(mfs), data=ADNI_full))\n",
    "    out=summary(model)\n",
    "    coef=lm.beta(model)\n",
    "      \n",
    "    \n",
    "    Stats[index,][1]=structs[i]\n",
    "    Stats[index,][2]=coef$coefficients[2] # estimate\n",
    "    Stats[index,][3]=out$coefficients[2,4] # p-value\n",
    "    Stats[index,][4]=out$coefficients[2,3] # t-value\n",
    "    Stats[index,][5]=out$df[2] # df\n",
    "       \n",
    "     \n",
    "    index=index+1\n",
    "}\n",
    "\n",
    "Stats_adj_ADNI=Stats\n",
    "Stats_adj_ADNI[,3]=as.numeric(p.adjust(Stats_adj_ADNI[,3], method = 'BH'))\n",
    "Stats_adj_ADNI=data.frame(Stats_adj_ADNI)\n",
    "colnames(Stats_adj_ADNI)=c('measure','estimate','p','t')\n",
    "Stats_adj_ADNI$estimate=as.numeric(levels(Stats_adj_ADNI$estimate))[Stats_adj_ADNI$estimate]\n",
    "Stats_adj_ADNI$p=as.numeric(levels(Stats_adj_ADNI$p))[Stats_adj_ADNI$p]\n",
    "Stats_adj_ADNI$t=as.numeric(levels(Stats_adj_ADNI$t))[Stats_adj_ADNI$t]"
   ]
  },
  {
   "cell_type": "markdown",
   "metadata": {},
   "source": [
    "## Control"
   ]
  },
  {
   "cell_type": "code",
   "execution_count": null,
   "metadata": {},
   "outputs": [],
   "source": [
    "Stats=matrix(nrow=length(grep('thickavg',colnames(ADNI_full))),ncol=5) # \n",
    "index=1\n",
    "\n",
    "ADNI_full$Sample=factor(ADNI_full$Sample, levels=c('CON','AD'),ordered=T)\n",
    "\n",
    "for (i in 1:length(structs)) { #\n",
    "  \n",
    "    model=(lm((ADNI_full[[grep(structs[i], colnames(ADNI_full))]]) ~\n",
    "                factor(Sample) + Age + factor(Sex) + factor(manufacturer) + factor(mfs), data=ADNI_full))\n",
    "    out=summary(model)\n",
    "    coef=lm.beta(model)\n",
    "      \n",
    "    \n",
    "    Stats[index,][1]=structs[i]\n",
    "    Stats[index,][2]=coef$coefficients[5] # estimate\n",
    "    Stats[index,][3]=out$coefficients[5,4] # p-value\n",
    "    Stats[index,][4]=out$coefficients[5,3] # t-value\n",
    "    Stats[index,][5]=out$df[4] # df\n",
    "       \n",
    "     \n",
    "    index=index+1\n",
    "}\n",
    "\n",
    "Stats_adj_ADNI_con=Stats\n",
    "Stats_adj_ADNI_con=data.frame(Stats_adj_ADNI_con)\n",
    "colnames(Stats_adj_ADNI_con)=c('measure','estimate','p','t')\n",
    "Stats_adj_ADNI_con$estimate=as.numeric(levels(Stats_adj_ADNI_con$estimate))[Stats_adj_ADNI_con$estimate]\n",
    "Stats_adj_ADNI_con$p=as.numeric(levels(Stats_adj_ADNI_con$p))[Stats_adj_ADNI_con$p]\n",
    "Stats_adj_ADNI_con$t=as.numeric(levels(Stats_adj_ADNI_con$t))[Stats_adj_ADNI_con$t]"
   ]
  },
  {
   "cell_type": "code",
   "execution_count": null,
   "metadata": {},
   "outputs": [],
   "source": [
    "#Stats_adj[,4][as.numeric(Stats_adj[,3])>0.05]=NA\n",
    "#Stats_adj[,4][as.numeric(Stats_adj[,4])>0]=NA \n",
    "\n",
    "plot_list.lh=list()\n",
    "plot_list.rh=list()\n",
    "\n",
    "for (i in 1:62) {\n",
    "    if (i<32) {\n",
    "        plot_list.lh[[(unlist(strsplit(unlist(strsplit(as.character(Stats_adj_ADNI[i,1]),\"_\"))[1],'[.]'))[2])]]=as.numeric(Stats_adj_ADNI[i,2]) }\n",
    "    else {\n",
    "        plot_list.rh[[(unlist(strsplit(unlist(strsplit(as.character(Stats_adj_ADNI[i,1]),\"_\"))[1],'[.]'))[2])]]=as.numeric(Stats_adj_ADNI[i,2])\n",
    "    }\n",
    "}\n",
    "plot_list.lh[['bankssts']]=plot_list.lh[['middletemporal']]\n",
    "plot_list.rh[['bankssts']]=plot_list.rh[['middletemporal']]"
   ]
  },
  {
   "cell_type": "code",
   "execution_count": null,
   "metadata": {
    "scrolled": true
   },
   "outputs": [],
   "source": [
    "atlas = 'aparc';\n",
    "template_subject = 'fsaverage';\n",
    "template_subjects_dir='/dagher/dagher10/yyau/toolbox/freesurfer/subjects/'\n",
    "makecmap_options = list()\n",
    "colFn_many_blues = colorRampPalette(RColorBrewer::brewer.pal(9, name=\"Blues\"));\n",
    "colFn_diverging= function(n) { grDevices::hcl.colors(n,palette='Blue-Red 3'); }\n",
    "makecmap_options = list('colFn'=colFn_diverging, 'symm'=TRUE);\n",
    "\n",
    "\n",
    "rgloptions = list(\"windowRect\"=c(50, 50, 1000, 1000));\n",
    "rglactions = list(\"snapshot_png\"=\"/dagher/dagher11/filip/OBAD/figures/CT_ad_full.png\")\n",
    "\n",
    "\n",
    "vis.region.values.on.subject(template_subjects_dir, template_subject, atlas, \n",
    "                             plot_list.lh, \n",
    "                             plot_list.rh,\n",
    "                             draw_colorbar = TRUE,\n",
    "                             #surface='inflated',\n",
    "                             rgloptions=rgloptions,\n",
    "                             makecmap_options=makecmap_options,\n",
    "                             rglactions=rglactions, bg='curv');"
   ]
  },
  {
   "cell_type": "markdown",
   "metadata": {},
   "source": [
    "## UKBB"
   ]
  },
  {
   "cell_type": "code",
   "execution_count": null,
   "metadata": {},
   "outputs": [],
   "source": [
    "UKBB_full$date_diff=as.numeric(as.Date(UKBB_full$date_of_attending_assessment_centre_53.2.0)-as.Date('2014-04-30'))\n",
    "UKBB_full$date_diff_sq=(as.numeric(UKBB_full$date_diff))^2\n"
   ]
  },
  {
   "cell_type": "code",
   "execution_count": null,
   "metadata": {},
   "outputs": [],
   "source": [
    "Stats=matrix(nrow=length(grep('thickness',colnames(UKBB_full))),ncol=5) # \n",
    "index=1\n",
    "\n",
    "UKBB_full$Sample=factor(UKBB_full$Sample, levels=c('LE','OB'),ordered=T)\n",
    "\n",
    "\n",
    "for (i in grep('thickness',colnames(UKBB_full))) { #\n",
    "  \n",
    "    model=(lm((UKBB_full[[i]]) ~\n",
    "                factor(Sample) + Age + factor(Sex) + factor(uk_biobank_assessment_centre_54.2.0), data=UKBB_full))\n",
    "    out=summary(model)\n",
    "    coef=lm.beta(model)\n",
    "      \n",
    "    \n",
    "    Stats[index,][1]=colnames(UKBB_full)[i]\n",
    "    Stats[index,][2]=coef$coefficients[2] # estimate\n",
    "    Stats[index,][3]=out$coefficients[2,4] # p-value\n",
    "    Stats[index,][4]=out$coefficients[2,3] # t-value\n",
    "    Stats[index,][5]=out$df[2] # df\n",
    "     \n",
    "    index=index+1\n",
    "}\n",
    "\n",
    "Stats_adj_UKBB=Stats\n",
    "Stats_adj_UKBB[,3]=as.numeric(p.adjust(Stats_adj_UKBB[,3], method = 'BH'))\n",
    "Stats_adj_UKBB=data.frame(Stats_adj_UKBB)\n",
    "colnames(Stats_adj_UKBB)=c('measure','estimate','p','t')\n",
    "Stats_adj_UKBB$estimate=as.numeric(levels(Stats_adj_UKBB$estimate))[Stats_adj_UKBB$estimate]\n",
    "Stats_adj_UKBB$p=as.numeric(levels(Stats_adj_UKBB$p))[Stats_adj_UKBB$p]\n",
    "Stats_adj_UKBB$t=as.numeric(levels(Stats_adj_UKBB$t))[Stats_adj_UKBB$t]"
   ]
  },
  {
   "cell_type": "markdown",
   "metadata": {},
   "source": [
    "# Control"
   ]
  },
  {
   "cell_type": "code",
   "execution_count": null,
   "metadata": {},
   "outputs": [],
   "source": [
    "Stats=matrix(nrow=length(grep('thickness',colnames(UKBB_full))),ncol=5) # \n",
    "index=1\n",
    "\n",
    "UKBB_full$Sample=factor(UKBB_full$Sample, levels=c('LE','OB'),ordered=T)\n",
    "\n",
    "\n",
    "for (i in grep('thickness',colnames(UKBB_full))) { #\n",
    "  \n",
    "    model=(lm((UKBB_full[[i]]) ~\n",
    "                factor(Sample) + Age + factor(Sex) + factor(uk_biobank_assessment_centre_54.2.0), data=UKBB_full))\n",
    "    out=summary(model)\n",
    "    coef=lm.beta(model)\n",
    "      \n",
    "    \n",
    "    Stats[index,][1]=colnames(UKBB_full)[i]\n",
    "    Stats[index,][2]=coef$coefficients[5] # estimate\n",
    "    Stats[index,][3]=out$coefficients[5,4] # p-value\n",
    "    Stats[index,][4]=out$coefficients[5,3] # t-value\n",
    "    Stats[index,][5]=out$df[4] # df\n",
    "     \n",
    "    index=index+1\n",
    "}\n",
    "\n",
    "Stats_adj_UKBB_con=Stats\n",
    "Stats_adj_UKBB_con=data.frame(Stats_adj_UKBB_con)\n",
    "colnames(Stats_adj_UKBB_con)=c('measure','estimate','p','t')\n",
    "Stats_adj_UKBB_con$estimate=as.numeric(levels(Stats_adj_UKBB_con$estimate))[Stats_adj_UKBB_con$estimate]\n",
    "Stats_adj_UKBB_con$p=as.numeric(levels(Stats_adj_UKBB_con$p))[Stats_adj_UKBB_con$p]\n",
    "Stats_adj_UKBB_con$t=as.numeric(levels(Stats_adj_UKBB_con$t))[Stats_adj_UKBB_con$t]"
   ]
  },
  {
   "cell_type": "code",
   "execution_count": null,
   "metadata": {},
   "outputs": [],
   "source": [
    "#Stats_adj_UKBB[,4][as.numeric(Stats_adj_UKBB[,3])>0.05]=NA\n",
    "#Stats_adj[,4][as.numeric(Stats_adj[,4])>0]=NA \n",
    "\n",
    "plot_list.lh=list()\n",
    "plot_list.rh=list()\n",
    "\n",
    "for (i in 1:62) {\n",
    "    if (i<32) {\n",
    "        plot_list.lh[[(unlist(strsplit(as.character(Stats_adj_UKBB[i,1]),\"_\")))[4]]]=as.numeric(Stats_adj_UKBB[i,2]) }\n",
    "    else {\n",
    "        plot_list.rh[[(unlist(strsplit(as.character(Stats_adj_UKBB[i,1]),\"_\")))[4]]]=as.numeric(Stats_adj_UKBB[i,2])\n",
    "    }\n",
    "}\n",
    "\n",
    "plot_list.lh[['bankssts']]=plot_list.lh[['middletemporal']]\n",
    "plot_list.rh[['bankssts']]=plot_list.rh[['middletemporal']]"
   ]
  },
  {
   "cell_type": "code",
   "execution_count": null,
   "metadata": {},
   "outputs": [],
   "source": [
    "atlas = 'aparc';\n",
    "template_subject = 'fsaverage';\n",
    "template_subjects_dir='/home/bic/fmorys/.local/share/fsbrain/subjects_dir/'\n",
    "makecmap_options = list()\n",
    "colFn_many_blues = colorRampPalette(RColorBrewer::brewer.pal(9, name=\"Blues\"));\n",
    "colFn_diverging= function(n) { grDevices::hcl.colors(n,palette='Blue-Red 3'); }\n",
    "makecmap_options = list('colFn'=colFn_diverging, 'symm'=TRUE);\n",
    "\n",
    "\n",
    "rgloptions = list(\"windowRect\"=c(50, 50, 1000, 1000));\n",
    "rglactions = list(\"snapshot_png\"=\"/dagher/dagher11/filip/OBAD/figures/CT_ob_full.png\")\n",
    "\n",
    "\n",
    "vis.region.values.on.subject(template_subjects_dir, template_subject, atlas, \n",
    "                             plot_list.lh, \n",
    "                             plot_list.rh,\n",
    "                             draw_colorbar = TRUE,\n",
    "                             bg='curv',\n",
    "                             rgloptions=rgloptions,\n",
    "                             makecmap_options=makecmap_options,\n",
    "                             rglactions=rglactions);"
   ]
  },
  {
   "cell_type": "markdown",
   "metadata": {},
   "source": [
    "## Tau and amyloid maps\n",
    "\n",
    "https://neurovault.org/collections/12296/"
   ]
  },
  {
   "cell_type": "code",
   "execution_count": null,
   "metadata": {},
   "outputs": [],
   "source": [
    "tau=c(1.13974106e+00, 3.88694712e+00,\n",
    "       2.39511371e+00, 5.53503271e+00, 5.38190645e+00, 5.62174550e+00,\n",
    "       6.46472202e+00, 3.82113160e+00, 4.09139808e+00, 2.02190950e+00,\n",
    "       2.86058562e+00, 1.33826878e+00, 5.88404469e+00, 3.96643209e+00,\n",
    "       1.09396560e+00, 2.58822830e+00, 1.62682463e+00, 2.18356348e+00,\n",
    "       1.34253965e+00, 1.87654946e+00, 2.79856270e+00, 2.31431810e+00,\n",
    "       3.85138689e+00, 1.36745723e+00, 3.08617677e+00, 2.58048517e+00,\n",
    "       3.78359833e+00, 3.70438113e+00, 4.25749330e+00, 2.08060858e+00,\n",
    "       1.83264941e+00, 1.32151448e+00, 3.60782540e+00, 2.64397057e+00,\n",
    "       5.10105331e+00, 5.35011769e+00, 5.29500462e+00, 6.26608248e+00,\n",
    "       3.90458355e+00, 4.18040327e+00, 1.95614101e+00, 2.74218305e+00,\n",
    "       1.50811528e+00, 5.75832020e+00, 4.39307546e+00, 1.28910970e+00,\n",
    "       2.47746555e+00, 1.60182662e+00, 2.08189763e+00, 1.79592073e+00,\n",
    "       1.84113443e+00, 2.79200414e+00, 2.06274244e+00, 4.13677223e+00,\n",
    "       1.05959101e+00, 2.58825114e+00, 2.38333756e+00, 3.17815187e+00,\n",
    "       3.42950200e+00, 4.04442488e+00, 1.62788138e+00, 1.81627956e+00)"
   ]
  },
  {
   "cell_type": "code",
   "execution_count": null,
   "metadata": {},
   "outputs": [],
   "source": [
    "amyloid=c(0.42307589, 0.43821604,0.27832654,0.13792826,0.34242532,0.4655474,0.43592951,\n",
    "0.32543542,0.40300421,0.30428422,0.4261153,0.24937009,0.4867927,0.44308223,0.34912991,\n",
    "0.2063827,0.42481983,0.44571424,0.43345765,0.31010989,0.31120999,0.49096764,0.28417289,\n",
    "0.5524801,0.48409009,0.53447225,0.46038992,0.40673786,0.37977172,0.43856865,0.34580301,\n",
    "0.44025162,0.43777316,0.27532236,0.13209678,0.33495502,0.47979976,0.43046158,0.33467261,\n",
    "0.40357215,0.31724805,0.42111977,0.2464843,0.50456126,0.4458489,0.34595968,0.20939865,\n",
    "0.42978596,0.46389543,0.44211144,0.3286671,0.31127205,0.48978672,0.28914124,0.53541061,\n",
    "0.4784875,0.54270811,0.46145932,0.3951592,0.37729085,0.42214311,0.32533372)"
   ]
  },
  {
   "cell_type": "markdown",
   "metadata": {},
   "source": [
    "## Calculate correlations between maps"
   ]
  },
  {
   "cell_type": "code",
   "execution_count": null,
   "metadata": {},
   "outputs": [],
   "source": [
    "UKBB_est=Stats_adj_UKBB$est\n",
    "UKBB_est_con=Stats_adj_UKBB_con$estimate"
   ]
  },
  {
   "cell_type": "code",
   "execution_count": null,
   "metadata": {},
   "outputs": [],
   "source": [
    "ADNI_est=Stats_adj_ADNI$est\n",
    "ADNI_est_con=Stats_adj_ADNI_con$estimate"
   ]
  },
  {
   "cell_type": "code",
   "execution_count": null,
   "metadata": {},
   "outputs": [],
   "source": [
    "cor.test(ADNI_est, amyloid, method='spearman')\n",
    "cor.test(UKBB_est, amyloid, method='spearman')\n",
    "cor.test(ADNI_est, tau, method='spearman')\n",
    "cor.test(UKBB_est, tau, method='spearman')\n",
    "cor.test(amyloid, tau, method='spearman')"
   ]
  },
  {
   "cell_type": "code",
   "execution_count": null,
   "metadata": {},
   "outputs": [],
   "source": [
    "cor.test(UKBB_est,ADNI_est, method='spearman')"
   ]
  },
  {
   "cell_type": "code",
   "execution_count": null,
   "metadata": {},
   "outputs": [],
   "source": [
    "cor.test(UKBB_est_con,ADNI_est_con, method='spearman')"
   ]
  },
  {
   "cell_type": "markdown",
   "metadata": {},
   "source": [
    "## Plot difference maps"
   ]
  },
  {
   "cell_type": "code",
   "execution_count": null,
   "metadata": {},
   "outputs": [],
   "source": [
    "Stats_adj_diffplot=Stats_adj_ADNI\n",
    "Stats_adj_diffplot$estimate=abs((rank(Stats_adj_ADNI$estimate))-(rank(Stats_adj_UKBB$estimate)))\n"
   ]
  },
  {
   "cell_type": "code",
   "execution_count": null,
   "metadata": {},
   "outputs": [],
   "source": [
    "print(Stats_adj_diffplot[order(Stats_adj_diffplot$estimate),])"
   ]
  },
  {
   "cell_type": "code",
   "execution_count": null,
   "metadata": {},
   "outputs": [],
   "source": [
    "#Stats_adj[,4][as.numeric(Stats_adj[,3])>0.05]=NA\n",
    "#Stats_adj[,4][as.numeric(Stats_adj[,4])>0]=NA \n",
    "\n",
    "plot_list.lh=list()\n",
    "plot_list.rh=list()\n",
    "\n",
    "for (i in 1:62) {\n",
    "    if (i<32) {\n",
    "        plot_list.lh[[(unlist(strsplit(unlist(strsplit(as.character(Stats_adj_diffplot[i,1]),\"_\"))[1],'[.]'))[2])]]=as.numeric(Stats_adj_diffplot[i,2]) }\n",
    "    else {\n",
    "        plot_list.rh[[(unlist(strsplit(unlist(strsplit(as.character(Stats_adj_diffplot[i,1]),\"_\"))[1],'[.]'))[2])]]=as.numeric(Stats_adj_diffplot[i,2])\n",
    "    }\n",
    "}\n",
    "plot_list.lh[['bankssts']]=plot_list.lh[['middletemporal']]\n",
    "plot_list.rh[['bankssts']]=plot_list.rh[['middletemporal']]"
   ]
  },
  {
   "cell_type": "code",
   "execution_count": null,
   "metadata": {},
   "outputs": [],
   "source": [
    "atlas = 'aparc';\n",
    "template_subject = 'fsaverage';\n",
    "template_subjects_dir='/dagher/dagher10/yyau/toolbox/freesurfer/subjects/'\n",
    "makecmap_options = list()\n",
    "colFn_many_blues = colorRampPalette(RColorBrewer::brewer.pal(9, name=\"Blues\"));\n",
    "colFn_diverging= function(n) { grDevices::hcl.colors(n,palette='YlOrRd'); }\n",
    "makecmap_options = list('colFn'=colFn_diverging, 'symm'=FALSE);\n",
    "\n",
    "\n",
    "rgloptions = list(\"windowRect\"=c(50, 50, 1000, 1000));\n",
    "rglactions = list(\"snapshot_png\"=\"/dagher/dagher11/filip/OBAD/figures/CT_diffrank_map_full.png\")\n",
    "\n",
    "\n",
    "vis.region.values.on.subject(template_subjects_dir, template_subject, atlas, \n",
    "                             plot_list.lh, \n",
    "                             plot_list.rh,\n",
    "                             draw_colorbar = TRUE,\n",
    "                             #surface='inflated',\n",
    "                             rgloptions=rgloptions,\n",
    "                             makecmap_options=makecmap_options,\n",
    "                             rglactions=rglactions, bg='curv');"
   ]
  },
  {
   "cell_type": "markdown",
   "metadata": {},
   "source": [
    "# Obese sample"
   ]
  },
  {
   "cell_type": "code",
   "execution_count": null,
   "metadata": {},
   "outputs": [],
   "source": [
    "ADNI_ob=read.table('/dagher/dagher11/filip/OBAD/data/matched_adob.csv',sep=' ', header=T)\n",
    "UKBB_ob=read.table('/dagher/dagher11/filip/OBAD/data/UKBB_matched_adob.csv', sep=' ', header=T)\n",
    "ADNI_ob=merge(ADNI_thick,ADNI_ob,by.x='patient_id',by.y='ID',all.y=TRUE)\n",
    "UKBB_ob=merge(UKBB_thick,UKBB_ob,by.x='eid',by.y='ID',all.y=TRUE)"
   ]
  },
  {
   "cell_type": "code",
   "execution_count": null,
   "metadata": {},
   "outputs": [],
   "source": [
    "mean(ADNI_ob$bmi_bl[ADNI_ob$dx_bl=='AD'], na.rm=T)\n",
    "mean(ADNI_ob$bmi_bl[ADNI_ob$dx_bl=='CON'], na.rm=T)\n",
    "mean(UKBB_ob$body_mass_index_bmi_21001.2.0[UKBB_ob$Sample=='LE'], na.rm=T)\n",
    "mean(UKBB_ob$body_mass_index_bmi_21001.2.0[UKBB_ob$Sample=='OB'], na.rm=T)\n",
    "\n",
    "table(ADNI_ob$men[ADNI_ob$dx_bl=='AD'])\n",
    "table(ADNI_ob$men[ADNI_ob$dx_bl=='CON'])\n",
    "table(UKBB_ob$sex_31.0.0[UKBB_ob$Sample=='LE'])\n",
    "table(UKBB_ob$sex_31.0.0[UKBB_ob$Sample=='OB'])"
   ]
  },
  {
   "cell_type": "markdown",
   "metadata": {},
   "source": [
    "## Plot cortical thickness maps"
   ]
  },
  {
   "cell_type": "code",
   "execution_count": null,
   "metadata": {},
   "outputs": [],
   "source": [
    "Stats=matrix(nrow=length(grep('thickavg',colnames(ADNI_ob))),ncol=5) # \n",
    "index=1\n",
    "\n",
    "ADNI_ob$Sample=factor(ADNI_ob$Sample, levels=c('CONOB','ADOB'),ordered=T)\n",
    "\n",
    "for (i in 1:length(structs)) { #\n",
    "  \n",
    "    model=(lm((ADNI_ob[[grep(structs[i], colnames(ADNI_ob))]]) ~\n",
    "                factor(Sample) + Age + factor(Sex) + factor(manufacturer) + factor(mfs), data=ADNI_ob))\n",
    "    out=summary(model)\n",
    "    coef=lm.beta(model)\n",
    "      \n",
    "    \n",
    "    Stats[index,][1]=structs[i]\n",
    "    Stats[index,][2]=coef$coefficients[2] # estimate\n",
    "    Stats[index,][3]=out$coefficients[2,4] # p-value\n",
    "    Stats[index,][4]=out$coefficients[2,3] # t-value\n",
    "    Stats[index,][5]=out$df[2] # df\n",
    "       \n",
    "     \n",
    "    index=index+1\n",
    "}\n",
    "\n",
    "Stats_adj_ADNI_ob=Stats\n",
    "Stats_adj_ADNI_ob[,3]=as.numeric(p.adjust(Stats_adj_ADNI_ob[,3], method = 'BH'))\n",
    "Stats_adj_ADNI_ob=data.frame(Stats_adj_ADNI_ob)\n",
    "colnames(Stats_adj_ADNI_ob)=c('measure','estimate','p','t')\n",
    "Stats_adj_ADNI_ob$estimate=as.numeric(levels(Stats_adj_ADNI_ob$estimate))[Stats_adj_ADNI_ob$estimate]\n",
    "Stats_adj_ADNI_ob$p=as.numeric(levels(Stats_adj_ADNI_ob$p))[Stats_adj_ADNI_ob$p]\n",
    "Stats_adj_ADNI_ob$t=as.numeric(levels(Stats_adj_ADNI_ob$t))[Stats_adj_ADNI_ob$t]"
   ]
  },
  {
   "cell_type": "markdown",
   "metadata": {},
   "source": [
    "# Control"
   ]
  },
  {
   "cell_type": "code",
   "execution_count": null,
   "metadata": {},
   "outputs": [],
   "source": [
    "Stats=matrix(nrow=length(grep('thickavg',colnames(ADNI_ob))),ncol=5) # \n",
    "index=1\n",
    "\n",
    "ADNI_ob$Sample=factor(ADNI_ob$Sample, levels=c('CONOB','ADOB'),ordered=T)\n",
    "\n",
    "for (i in 1:length(structs)) { #\n",
    "  \n",
    "    model=(lm((ADNI_ob[[grep(structs[i], colnames(ADNI_ob))]]) ~\n",
    "                factor(Sample) + Age + factor(Sex) + factor(manufacturer) + factor(mfs), data=ADNI_ob))\n",
    "    out=summary(model)\n",
    "    coef=lm.beta(model)\n",
    "    \n",
    "    Stats[index,][1]=structs[i]\n",
    "    Stats[index,][2]=coef$coefficients[7] # estimate\n",
    "    Stats[index,][3]=out$coefficients[7,4] # p-value\n",
    "    Stats[index,][4]=out$coefficients[7,3] # t-value\n",
    "    Stats[index,][5]=out$df[4] # df\n",
    "       \n",
    "     \n",
    "    index=index+1\n",
    "}\n",
    "\n",
    "Stats_adj_ADNI_ob_con=Stats\n",
    "Stats_adj_ADNI_ob_con=data.frame(Stats_adj_ADNI_ob_con)\n",
    "colnames(Stats_adj_ADNI_ob_con)=c('measure','estimate','p','t')\n",
    "Stats_adj_ADNI_ob_con$estimate=as.numeric(levels(Stats_adj_ADNI_ob_con$estimate))[Stats_adj_ADNI_ob_con$estimate]\n",
    "Stats_adj_ADNI_ob_con$p=as.numeric(levels(Stats_adj_ADNI_ob_con$p))[Stats_adj_ADNI_ob_con$p]\n",
    "Stats_adj_ADNI_ob_con$t=as.numeric(levels(Stats_adj_ADNI_ob_con$t))[Stats_adj_ADNI_ob_con$t]"
   ]
  },
  {
   "cell_type": "code",
   "execution_count": null,
   "metadata": {},
   "outputs": [],
   "source": [
    "#Stats_adj[,4][as.numeric(Stats_adj[,3])>0.05]=NA\n",
    "#Stats_adj[,4][as.numeric(Stats_adj[,4])>0]=NA \n",
    "\n",
    "plot_list.lh=list()\n",
    "plot_list.rh=list()\n",
    "\n",
    "for (i in 1:62) {\n",
    "    if (i<32) {\n",
    "        plot_list.lh[[(unlist(strsplit(unlist(strsplit(as.character(Stats_adj_ADNI_ob[i,1]),\"_\"))[1],'[.]'))[2])]]=as.numeric(Stats_adj_ADNI_ob[i,2]) }\n",
    "    else {\n",
    "        plot_list.rh[[(unlist(strsplit(unlist(strsplit(as.character(Stats_adj_ADNI_ob[i,1]),\"_\"))[1],'[.]'))[2])]]=as.numeric(Stats_adj_ADNI_ob[i,2])\n",
    "    }\n",
    "}\n",
    "\n",
    "plot_list.lh[['bankssts']]=plot_list.lh[['middletemporal']]\n",
    "plot_list.rh[['bankssts']]=plot_list.rh[['middletemporal']]"
   ]
  },
  {
   "cell_type": "code",
   "execution_count": null,
   "metadata": {},
   "outputs": [],
   "source": [
    "atlas = 'aparc';\n",
    "template_subject = 'fsaverage';\n",
    "template_subjects_dir='/home/bic/fmorys/.local/share/fsbrain/subjects_dir/'\n",
    "makecmap_options = list()\n",
    "colFn_many_blues = colorRampPalette(RColorBrewer::brewer.pal(9, name=\"Blues\"));\n",
    "colFn_diverging= function(n) { grDevices::hcl.colors(n,palette='Blue-Red 3'); }\n",
    "makecmap_options = list('colFn'=colFn_diverging, 'symm'=TRUE);\n",
    "\n",
    "\n",
    "rgloptions = list(\"windowRect\"=c(50, 50, 1000, 1000));\n",
    "\n",
    "rglactions = list(\"snapshot_png\"=\"/dagher/dagher11/filip/OBAD/figures/CT_ad_obese.png\")\n",
    "\n",
    "\n",
    "vis.region.values.on.subject(template_subjects_dir, template_subject, atlas, \n",
    "                             plot_list.lh, \n",
    "                             plot_list.rh,\n",
    "                             draw_colorbar = TRUE,\n",
    "                             bg='curv',\n",
    "                             rgloptions=rgloptions,\n",
    "                             makecmap_options=makecmap_options,\n",
    "                             rglactions=rglactions);"
   ]
  },
  {
   "cell_type": "markdown",
   "metadata": {},
   "source": [
    "## UKBB"
   ]
  },
  {
   "cell_type": "code",
   "execution_count": null,
   "metadata": {},
   "outputs": [],
   "source": [
    "Stats=matrix(nrow=length(grep('thickness',colnames(UKBB_ob))),ncol=5) # \n",
    "index=1\n",
    "\n",
    "UKBB_ob$Sample=factor(UKBB_ob$Sample, levels=c('LE','OB'),ordered=T)\n",
    "\n",
    "\n",
    "for (i in grep('thickness',colnames(UKBB_ob))) { #\n",
    "  \n",
    "    model=(lm((UKBB_ob[[i]]) ~\n",
    "                factor(Sample) + Age + factor(Sex) + factor(uk_biobank_assessment_centre_54.2.0), data=UKBB_ob))\n",
    "    out=summary(model)\n",
    "    coef=lm.beta(model)\n",
    "      \n",
    "    \n",
    "    Stats[index,][1]=colnames(UKBB_ob)[i]\n",
    "    Stats[index,][2]=coef$coefficients[2] # estimate\n",
    "    Stats[index,][3]=out$coefficients[2,4] # p-value\n",
    "    Stats[index,][4]=out$coefficients[2,3] # t-value\n",
    "    Stats[index,][5]=out$df[2] # df\n",
    "     \n",
    "    index=index+1\n",
    "}\n",
    "\n",
    "Stats_adj_UKBB_ob=Stats\n",
    "Stats_adj_UKBB_ob[,3]=as.numeric(p.adjust(Stats_adj_UKBB_ob[,3], method = 'BH'))\n",
    "Stats_adj_UKBB_ob=data.frame(Stats_adj_UKBB_ob)\n",
    "colnames(Stats_adj_UKBB_ob)=c('measure','estimate','p','t')\n",
    "Stats_adj_UKBB_ob$estimate=as.numeric(levels(Stats_adj_UKBB_ob$estimate))[Stats_adj_UKBB_ob$estimate]\n",
    "Stats_adj_UKBB_ob$p=as.numeric(levels(Stats_adj_UKBB_ob$p))[Stats_adj_UKBB_ob$p]\n",
    "Stats_adj_UKBB_ob$t=as.numeric(levels(Stats_adj_UKBB_ob$t))[Stats_adj_UKBB_ob$t]"
   ]
  },
  {
   "cell_type": "markdown",
   "metadata": {},
   "source": [
    "# Control"
   ]
  },
  {
   "cell_type": "code",
   "execution_count": null,
   "metadata": {},
   "outputs": [],
   "source": [
    "Stats=matrix(nrow=length(grep('thickness',colnames(UKBB_ob))),ncol=5) # \n",
    "index=1\n",
    "\n",
    "UKBB_ob$Sample=factor(UKBB_ob$Sample, levels=c('LE','OB'),ordered=T)\n",
    "\n",
    "\n",
    "for (i in grep('thickness',colnames(UKBB_ob))) { #\n",
    "  \n",
    "    model=(lm((UKBB_ob[[i]]) ~\n",
    "                factor(Sample) + Age + factor(Sex) + factor(uk_biobank_assessment_centre_54.2.0), data=UKBB_ob))\n",
    "    out=summary(model)\n",
    "    coef=lm.beta(model)\n",
    "      \n",
    "    \n",
    "    Stats[index,][1]=colnames(UKBB_ob)[i]\n",
    "    Stats[index,][2]=coef$coefficients[5] # estimate\n",
    "    Stats[index,][3]=out$coefficients[5,4] # p-value\n",
    "    Stats[index,][4]=out$coefficients[5,3] # t-value\n",
    "    Stats[index,][5]=out$df[4] # df\n",
    "     \n",
    "    index=index+1\n",
    "}\n",
    "\n",
    "Stats_adj_UKBB_ob_con=Stats\n",
    "Stats_adj_UKBB_ob_con=data.frame(Stats_adj_UKBB_ob_con)\n",
    "colnames(Stats_adj_UKBB_ob_con)=c('measure','estimate','p','t')\n",
    "Stats_adj_UKBB_ob_con$estimate=as.numeric(levels(Stats_adj_UKBB_ob_con$estimate))[Stats_adj_UKBB_ob_con$estimate]\n",
    "Stats_adj_UKBB_ob_con$p=as.numeric(levels(Stats_adj_UKBB_ob_con$p))[Stats_adj_UKBB_ob_con$p]\n",
    "Stats_adj_UKBB_ob_con$t=as.numeric(levels(Stats_adj_UKBB_ob_con$t))[Stats_adj_UKBB_ob_con$t]"
   ]
  },
  {
   "cell_type": "code",
   "execution_count": null,
   "metadata": {},
   "outputs": [],
   "source": [
    "#Stats_adj_UKBB[,4][as.numeric(Stats_adj_UKBB[,3])>0.05]=NA\n",
    "#Stats_adj[,4][as.numeric(Stats_adj[,4])>0]=NA \n",
    "\n",
    "plot_list.lh=list()\n",
    "plot_list.rh=list()\n",
    "\n",
    "for (i in 1:62) {\n",
    "    if (i<32) {\n",
    "        plot_list.lh[[(unlist(strsplit(as.character(Stats_adj_UKBB_ob[i,1]),\"_\")))[4]]]=as.numeric(Stats_adj_UKBB_ob[i,2]) }\n",
    "    else {\n",
    "        plot_list.rh[[(unlist(strsplit(as.character(Stats_adj_UKBB_ob[i,1]),\"_\")))[4]]]=as.numeric(Stats_adj_UKBB_ob[i,2])\n",
    "    }\n",
    "}\n",
    "\n",
    "plot_list.lh[['bankssts']]=plot_list.lh[['middletemporal']]\n",
    "plot_list.rh[['bankssts']]=plot_list.rh[['middletemporal']]"
   ]
  },
  {
   "cell_type": "code",
   "execution_count": null,
   "metadata": {},
   "outputs": [],
   "source": [
    "atlas = 'aparc';\n",
    "template_subject = 'fsaverage';\n",
    "template_subjects_dir='/home/bic/fmorys/.local/share/fsbrain/subjects_dir/'\n",
    "makecmap_options = list()\n",
    "colFn_many_blues = colorRampPalette(RColorBrewer::brewer.pal(9, name=\"Blues\"));\n",
    "colFn_diverging= function(n) { grDevices::hcl.colors(n,palette='Blue-Red 3'); }\n",
    "makecmap_options = list('colFn'=colFn_diverging, 'symm'=TRUE);\n",
    "\n",
    "\n",
    "rgloptions = list(\"windowRect\"=c(50, 50, 1000, 1000));\n",
    "rglactions = list(\"snapshot_png\"=\"/dagher/dagher11/filip/OBAD/figures/CT_ob_obese.png\")\n",
    "\n",
    "\n",
    "vis.region.values.on.subject(template_subjects_dir, template_subject, atlas, \n",
    "                             plot_list.lh, \n",
    "                             plot_list.rh,\n",
    "                             draw_colorbar = TRUE,\n",
    "                             bg='curv',\n",
    "                             rgloptions=rgloptions,\n",
    "                             makecmap_options=makecmap_options,\n",
    "                             rglactions=rglactions);"
   ]
  },
  {
   "cell_type": "markdown",
   "metadata": {},
   "source": [
    "## Calculate correlations between maps"
   ]
  },
  {
   "cell_type": "code",
   "execution_count": null,
   "metadata": {},
   "outputs": [],
   "source": [
    "UKBB_est_ob=Stats_adj_UKBB_ob$estimate\n",
    "UKBB_est_ob_con=Stats_adj_UKBB_ob_con$estimate"
   ]
  },
  {
   "cell_type": "code",
   "execution_count": null,
   "metadata": {},
   "outputs": [],
   "source": [
    "ADNI_est_ob=Stats_adj_ADNI_ob$estimate\n",
    "ADNI_est_ob_con=Stats_adj_ADNI_ob_con$estimate"
   ]
  },
  {
   "cell_type": "code",
   "execution_count": null,
   "metadata": {
    "scrolled": true
   },
   "outputs": [],
   "source": [
    "cor.test(UKBB_est_ob,ADNI_est_ob, method='spearman')"
   ]
  },
  {
   "cell_type": "code",
   "execution_count": null,
   "metadata": {},
   "outputs": [],
   "source": [
    "cor.test(UKBB_est_ob_con,ADNI_est_ob_con, method='spearman')"
   ]
  },
  {
   "cell_type": "markdown",
   "metadata": {},
   "source": [
    "# Lean sample"
   ]
  },
  {
   "cell_type": "code",
   "execution_count": null,
   "metadata": {},
   "outputs": [],
   "source": [
    "ADNI_le=read.table('/dagher/dagher11/filip/OBAD/data/matched_adle.csv',sep=' ', header=T)\n",
    "UKBB_le=read.table('/dagher/dagher11/filip/OBAD/data/UKBB_matched_adle.csv', sep=' ', header=T)\n",
    "ADNI_le=merge(ADNI_thick,ADNI_le,by.x='patient_id',by.y='ID',all.y=TRUE)\n",
    "UKBB_le=merge(UKBB_thick,UKBB_le,by.x='eid',by.y='ID',all.y=TRUE)"
   ]
  },
  {
   "cell_type": "code",
   "execution_count": null,
   "metadata": {},
   "outputs": [],
   "source": [
    "mean(ADNI_le$bmi_bl[ADNI_le$dx_bl=='AD'], na.rm=T)\n",
    "mean(ADNI_le$bmi_bl[ADNI_le$dx_bl=='CON'], na.rm=T)\n",
    "mean(UKBB_le$body_mass_index_bmi_21001.2.0[UKBB_le$Sample=='LE'], na.rm=T)\n",
    "mean(UKBB_le$body_mass_index_bmi_21001.2.0[UKBB_le$Sample=='OB'], na.rm=T)\n",
    "\n",
    "table(ADNI_le$men[ADNI_le$dx_bl=='AD'])\n",
    "table(ADNI_le$men[ADNI_le$dx_bl=='CON'])\n",
    "table(UKBB_le$sex_31.0.0[UKBB_le$Sample=='LE'])\n",
    "table(UKBB_le$sex_31.0.0[UKBB_le$Sample=='OB'])"
   ]
  },
  {
   "cell_type": "markdown",
   "metadata": {},
   "source": [
    "## Plot cortical thickness maps"
   ]
  },
  {
   "cell_type": "code",
   "execution_count": null,
   "metadata": {},
   "outputs": [],
   "source": [
    "Stats=matrix(nrow=length(grep('thickavg',colnames(ADNI_le))),ncol=5) # \n",
    "index=1\n",
    "\n",
    "ADNI_le$Sample=factor(ADNI_le$Sample, levels=c('CONLE','ADLE'),ordered=T)\n",
    "\n",
    "for (i in 1:length(structs)) { #\n",
    "  \n",
    "    model=(lm((ADNI_le[[grep(structs[i], colnames(ADNI_le))]]) ~\n",
    "                factor(Sample) + Age + factor(Sex) + factor(manufacturer) + factor(mfs), data=ADNI_le))\n",
    "    out=summary(model)\n",
    "    coef=lm.beta(model)\n",
    "      \n",
    "    \n",
    "    Stats[index,][1]=structs[i]\n",
    "    Stats[index,][2]=coef$coefficients[2] # estimate\n",
    "    Stats[index,][3]=out$coefficients[2,4] # p-value\n",
    "    Stats[index,][4]=out$coefficients[2,3] # t-value\n",
    "    Stats[index,][5]=out$df[2] # df\n",
    "       \n",
    "     \n",
    "    index=index+1\n",
    "}\n",
    "\n",
    "Stats_adj_ADNI_le=Stats\n",
    "Stats_adj_ADNI_le[,3]=as.numeric(p.adjust(Stats_adj_ADNI_le[,3], method = 'BH'))\n",
    "Stats_adj_ADNI_le=data.frame(Stats_adj_ADNI_le)\n",
    "colnames(Stats_adj_ADNI_le)=c('measure','estimate','p','t')\n",
    "Stats_adj_ADNI_le$estimate=as.numeric(levels(Stats_adj_ADNI_le$estimate))[Stats_adj_ADNI_le$estimate]\n",
    "Stats_adj_ADNI_le$p=as.numeric(levels(Stats_adj_ADNI_le$p))[Stats_adj_ADNI_le$p]\n",
    "Stats_adj_ADNI_le$t=as.numeric(levels(Stats_adj_ADNI_le$t))[Stats_adj_ADNI_le$t]"
   ]
  },
  {
   "cell_type": "markdown",
   "metadata": {},
   "source": [
    "# Control"
   ]
  },
  {
   "cell_type": "code",
   "execution_count": null,
   "metadata": {},
   "outputs": [],
   "source": [
    "Stats=matrix(nrow=length(grep('thickavg',colnames(ADNI_le))),ncol=5) # \n",
    "index=1\n",
    "\n",
    "ADNI_le$Sample=factor(ADNI_le$Sample, levels=c('CONLE','ADLE'),ordered=T)\n",
    "  \n",
    "    for (i in 1:length(structs)) { #\n",
    "  \n",
    "    model=(lm((ADNI_le[[grep(structs[i], colnames(ADNI_le))]]) ~\n",
    "                factor(Sample) + Age + factor(Sex) + factor(manufacturer) + factor(mfs), data=ADNI_le))\n",
    "    out=summary(model)\n",
    "    coef=lm.beta(model)\n",
    "      \n",
    "      \n",
    "    \n",
    "    Stats[index,][1]=colnames(ADNI_le)[i]\n",
    "    Stats[index,][2]=coef$coefficients[7] # estimate\n",
    "    Stats[index,][3]=out$coefficients[7,4] # p-value\n",
    "    Stats[index,][4]=out$coefficients[7,3] # t-value\n",
    "    Stats[index,][5]=out$df[4] # df\n",
    "       \n",
    "     \n",
    "    index=index+1\n",
    "}\n",
    "\n",
    "Stats_adj_ADNI_le_con=Stats\n",
    "Stats_adj_ADNI_le_con=data.frame(Stats_adj_ADNI_le_con)\n",
    "colnames(Stats_adj_ADNI_le_con)=c('measure','estimate','p','t')\n",
    "Stats_adj_ADNI_le_con$estimate=as.numeric(levels(Stats_adj_ADNI_le_con$estimate))[Stats_adj_ADNI_le_con$estimate]\n",
    "Stats_adj_ADNI_le_con$p=as.numeric(levels(Stats_adj_ADNI_le_con$p))[Stats_adj_ADNI_le_con$p]\n",
    "Stats_adj_ADNI_le_con$t=as.numeric(levels(Stats_adj_ADNI_le_con$t))[Stats_adj_ADNI_le_con$t]"
   ]
  },
  {
   "cell_type": "code",
   "execution_count": null,
   "metadata": {},
   "outputs": [],
   "source": [
    "#Stats_adj[,4][as.numeric(Stats_adj[,3])>0.05]=NA\n",
    "#Stats_adj[,4][as.numeric(Stats_adj[,4])>0]=NA \n",
    "\n",
    "plot_list.lh=list()\n",
    "plot_list.rh=list()\n",
    "\n",
    "for (i in 1:62) {\n",
    "    if (i<32) {\n",
    "        plot_list.lh[[(unlist(strsplit(unlist(strsplit(as.character(Stats_adj_ADNI_le[i,1]),\"_\"))[1],'[.]'))[2])]]=as.numeric(Stats_adj_ADNI_le[i,2]) }\n",
    "    else {\n",
    "        plot_list.rh[[(unlist(strsplit(unlist(strsplit(as.character(Stats_adj_ADNI_le[i,1]),\"_\"))[1],'[.]'))[2])]]=as.numeric(Stats_adj_ADNI_le[i,2])\n",
    "    }\n",
    "}\n",
    "\n",
    "plot_list.lh[['bankssts']]=plot_list.lh[['middletemporal']]\n",
    "plot_list.rh[['bankssts']]=plot_list.rh[['middletemporal']]"
   ]
  },
  {
   "cell_type": "code",
   "execution_count": null,
   "metadata": {},
   "outputs": [],
   "source": [
    "atlas = 'aparc';\n",
    "template_subject = 'fsaverage';\n",
    "template_subjects_dir='/home/bic/fmorys/.local/share/fsbrain/subjects_dir/'\n",
    "makecmap_options = list()\n",
    "colFn_many_blues = colorRampPalette(RColorBrewer::brewer.pal(9, name=\"Blues\"));\n",
    "colFn_diverging= function(n) { grDevices::hcl.colors(n,palette='Blue-Red 3'); }\n",
    "makecmap_options = list('colFn'=colFn_diverging, 'symm'=TRUE);\n",
    "\n",
    "\n",
    "rgloptions = list(\"windowRect\"=c(50, 50, 1000, 1000));\n",
    "rglactions = list(\"snapshot_png\"=\"/dagher/dagher11/filip/OBAD/figures/CT_ad_lean.png\")\n",
    "\n",
    "\n",
    "vis.region.values.on.subject(template_subjects_dir, template_subject, atlas, \n",
    "                             plot_list.lh, \n",
    "                             plot_list.rh,\n",
    "                             draw_colorbar = TRUE,\n",
    "                             bg='curv',\n",
    "                             rgloptions=rgloptions,\n",
    "                             makecmap_options=makecmap_options,\n",
    "                             rglactions=rglactions);"
   ]
  },
  {
   "cell_type": "markdown",
   "metadata": {},
   "source": [
    "## UKBB"
   ]
  },
  {
   "cell_type": "code",
   "execution_count": null,
   "metadata": {},
   "outputs": [],
   "source": [
    "Stats=matrix(nrow=length(grep('thickness',colnames(UKBB_le))),ncol=5) # \n",
    "index=1\n",
    "\n",
    "UKBB_le$Sample=factor(UKBB_le$Sample, levels=c('LE','OB'),ordered=T)\n",
    "\n",
    "\n",
    "for (i in grep('thickness',colnames(UKBB_le))) { #\n",
    "  \n",
    "    model=(lm((UKBB_le[[i]]) ~\n",
    "                factor(Sample) + Age + factor(Sex) + factor(uk_biobank_assessment_centre_54.2.0), data=UKBB_le))\n",
    "    out=summary(model)\n",
    "    coef=lm.beta(model)\n",
    "      \n",
    "    \n",
    "    Stats[index,][1]=colnames(UKBB_le)[i]\n",
    "    Stats[index,][2]=coef$coefficients[2] # estimate\n",
    "    Stats[index,][3]=out$coefficients[2,4] # p-value\n",
    "    Stats[index,][4]=out$coefficients[2,3] # t-value\n",
    "    Stats[index,][5]=out$df[2] # df\n",
    "     \n",
    "    index=index+1\n",
    "}\n",
    "\n",
    "Stats_adj_UKBB_le=Stats\n",
    "Stats_adj_UKBB_le[,3]=as.numeric(p.adjust(Stats_adj_UKBB_le[,3], method = 'BH'))\n",
    "Stats_adj_UKBB_le=data.frame(Stats_adj_UKBB_le)\n",
    "colnames(Stats_adj_UKBB_le)=c('measure','estimate','p','t')\n",
    "Stats_adj_UKBB_le$estimate=as.numeric(levels(Stats_adj_UKBB_le$estimate))[Stats_adj_UKBB_le$estimate]\n",
    "Stats_adj_UKBB_le$p=as.numeric(levels(Stats_adj_UKBB_le$p))[Stats_adj_UKBB_le$p]\n",
    "Stats_adj_UKBB_le$t=as.numeric(levels(Stats_adj_UKBB_le$t))[Stats_adj_UKBB_le$t]"
   ]
  },
  {
   "cell_type": "markdown",
   "metadata": {},
   "source": [
    "# Control"
   ]
  },
  {
   "cell_type": "code",
   "execution_count": null,
   "metadata": {},
   "outputs": [],
   "source": [
    "Stats=matrix(nrow=length(grep('thickness',colnames(UKBB_le))),ncol=5) # \n",
    "index=1\n",
    "\n",
    "UKBB_le$Sample=factor(UKBB_le$Sample, levels=c('LE','OB'),ordered=T)\n",
    "\n",
    "\n",
    "for (i in grep('thickness',colnames(UKBB_le))) { #\n",
    "  \n",
    "    model=(lm((UKBB_le[[i]]) ~\n",
    "                factor(Sample) + Age + factor(Sex) + factor(uk_biobank_assessment_centre_54.2.0), data=UKBB_le))\n",
    "    out=summary(model)\n",
    "    coef=lm.beta(model)\n",
    "      \n",
    "    \n",
    "    Stats[index,][1]=colnames(UKBB_le)[i]\n",
    "    Stats[index,][2]=coef$coefficients[5] # estimate\n",
    "    Stats[index,][3]=out$coefficients[5,4] # p-value\n",
    "    Stats[index,][4]=out$coefficients[5,3] # t-value\n",
    "    Stats[index,][5]=out$df[4] # df\n",
    "     \n",
    "    index=index+1\n",
    "}\n",
    "\n",
    "Stats_adj_UKBB_le_con=Stats\n",
    "Stats_adj_UKBB_le_con=data.frame(Stats_adj_UKBB_le_con)\n",
    "colnames(Stats_adj_UKBB_le_con)=c('measure','estimate','p','t')\n",
    "Stats_adj_UKBB_le_con$estimate=as.numeric(levels(Stats_adj_UKBB_le_con$estimate))[Stats_adj_UKBB_le_con$estimate]\n",
    "Stats_adj_UKBB_le_con$p=as.numeric(levels(Stats_adj_UKBB_le_con$p))[Stats_adj_UKBB_le_con$p]\n",
    "Stats_adj_UKBB_le_con$t=as.numeric(levels(Stats_adj_UKBB_le_con$t))[Stats_adj_UKBB_le_con$t]"
   ]
  },
  {
   "cell_type": "code",
   "execution_count": null,
   "metadata": {},
   "outputs": [],
   "source": [
    "#Stats_adj_UKBB[,4][as.numeric(Stats_adj_UKBB[,3])>0.05]=NA\n",
    "#Stats_adj[,4][as.numeric(Stats_adj[,4])>0]=NA \n",
    "\n",
    "plot_list.lh=list()\n",
    "plot_list.rh=list()\n",
    "\n",
    "for (i in 1:62) {\n",
    "    if (i<32) {\n",
    "        plot_list.lh[[(unlist(strsplit(as.character(Stats_adj_UKBB_le[i,1]),\"_\")))[4]]]=as.numeric(Stats_adj_UKBB_le[i,2]) }\n",
    "    else {\n",
    "        plot_list.rh[[(unlist(strsplit(as.character(Stats_adj_UKBB_le[i,1]),\"_\")))[4]]]=as.numeric(Stats_adj_UKBB_le[i,2])\n",
    "    }\n",
    "}\n",
    "\n",
    "plot_list.lh[['bankssts']]=plot_list.lh[['middletemporal']]\n",
    "plot_list.rh[['bankssts']]=plot_list.rh[['middletemporal']]"
   ]
  },
  {
   "cell_type": "code",
   "execution_count": null,
   "metadata": {},
   "outputs": [],
   "source": [
    "atlas = 'aparc';\n",
    "template_subject = 'fsaverage';\n",
    "template_subjects_dir='/home/bic/fmorys/.local/share/fsbrain/subjects_dir/'\n",
    "makecmap_options = list()\n",
    "colFn_many_blues = colorRampPalette(RColorBrewer::brewer.pal(9, name=\"Blues\"));\n",
    "colFn_diverging= function(n) { grDevices::hcl.colors(n,palette='Blue-Red 3'); }\n",
    "makecmap_options = list('colFn'=colFn_diverging, 'symm'=TRUE);\n",
    "\n",
    "\n",
    "rgloptions = list(\"windowRect\"=c(50, 50, 1000, 1000));\n",
    "rglactions = list(\"snapshot_png\"=\"/dagher/dagher11/filip/OBAD/figures/CT_ob_lean.png\")\n",
    "\n",
    "\n",
    "vis.region.values.on.subject(template_subjects_dir, template_subject, atlas, \n",
    "                             plot_list.lh, \n",
    "                             plot_list.rh,\n",
    "                             draw_colorbar = TRUE,\n",
    "                             bg='curv',\n",
    "                             rgloptions=rgloptions,\n",
    "                             makecmap_options=makecmap_options,\n",
    "                             rglactions=rglactions);"
   ]
  },
  {
   "cell_type": "markdown",
   "metadata": {},
   "source": [
    "## Calculate correlations between maps"
   ]
  },
  {
   "cell_type": "code",
   "execution_count": null,
   "metadata": {},
   "outputs": [],
   "source": [
    "UKBB_est_le=Stats_adj_UKBB_le$estimate\n",
    "UKBB_est_le_con=Stats_adj_UKBB_le_con$estimate"
   ]
  },
  {
   "cell_type": "code",
   "execution_count": null,
   "metadata": {},
   "outputs": [],
   "source": [
    "ADNI_est_le=Stats_adj_ADNI_le$estimate\n",
    "ADNI_est_le_con=Stats_adj_ADNI_le_con$estimate"
   ]
  },
  {
   "cell_type": "code",
   "execution_count": null,
   "metadata": {},
   "outputs": [],
   "source": [
    "cor.test(UKBB_est_le,ADNI_est_le, method='spearman')"
   ]
  },
  {
   "cell_type": "code",
   "execution_count": null,
   "metadata": {},
   "outputs": [],
   "source": [
    "cor.test(UKBB_est_le_con,ADNI_est_le_con, method='spearman')"
   ]
  },
  {
   "cell_type": "markdown",
   "metadata": {},
   "source": [
    "# Run spin tests (https://github.com/frantisekvasa/rotate_parcellation)"
   ]
  },
  {
   "cell_type": "code",
   "execution_count": null,
   "metadata": {},
   "outputs": [],
   "source": [
    "source(\"/dagher/dagher11/filip/Software/rotate_parcellation/R/perm.sphere.p.R\")\n",
    "source(\"/dagher/dagher11/filip/Software/rotate_parcellation/R/rotate.parcellation.R\")"
   ]
  },
  {
   "cell_type": "code",
   "execution_count": null,
   "metadata": {},
   "outputs": [],
   "source": [
    "Medioids=read.table('/dagher/dagher11/filip/OBAD/data/DKT31_vol_coords.csv', sep=',',header=T)\n",
    "Cort_medioids=Medioids[35:96,]\n",
    "Cort_medioids=select(Cort_medioids, medoid_x_mni, medoid_y_mni, medoid_z_mni)"
   ]
  },
  {
   "cell_type": "markdown",
   "metadata": {},
   "source": [
    "### UKBB"
   ]
  },
  {
   "cell_type": "code",
   "execution_count": null,
   "metadata": {},
   "outputs": [],
   "source": [
    "perm.id=rotate.parcellation(coord.l=as.matrix(Cort_medioids[c(1:31),]), coord.r=as.matrix(Cort_medioids[32:62,]), nrot=10000)\n",
    "p_perm=perm.sphere.p(UKBB_est_con, ADNI_est_con, perm.id)\n",
    "print(p_perm)\n",
    "p_perm=perm.sphere.p(UKBB_est_le_con, ADNI_est_le_con, perm.id)\n",
    "print(p_perm)\n",
    "p_perm=perm.sphere.p(UKBB_est_ob_con, ADNI_est_ob_con, perm.id)\n",
    "print(p_perm)\n",
    "\n"
   ]
  },
  {
   "cell_type": "markdown",
   "metadata": {},
   "source": [
    "### ADNI"
   ]
  },
  {
   "cell_type": "code",
   "execution_count": null,
   "metadata": {},
   "outputs": [],
   "source": [
    "#perm.id=rotate.parcellation(coord.l=as.matrix(Cort_medioids[c(1:31),]), coord.r=as.matrix(Cort_medioids[32:62,]), nrot=10000)\n",
    "p_perm=perm.sphere.p(ADNI_est, UKBB_est, perm.id)\n",
    "print(p_perm)\n",
    "p_perm=perm.sphere.p(ADNI_est_le, UKBB_est_le, perm.id)\n",
    "print(p_perm)\n",
    "p_perm=perm.sphere.p(ADNI_est_ob, UKBB_est_ob, perm.id)\n",
    "print(p_perm)\n"
   ]
  },
  {
   "cell_type": "markdown",
   "metadata": {},
   "source": [
    "### Amyloid + tau"
   ]
  },
  {
   "cell_type": "code",
   "execution_count": null,
   "metadata": {},
   "outputs": [],
   "source": [
    "perm.id=rotate.parcellation(coord.l=as.matrix(Cort_medioids[c(1:31),]), coord.r=as.matrix(Cort_medioids[32:62,]), nrot=10000)\n",
    "\n",
    "p_perm=perm.sphere.p(ADNI_est, amyloid, perm.id)\n",
    "print(p_perm)\n",
    "p_perm=perm.sphere.p(UKBB_est, amyloid, perm.id)\n",
    "print(p_perm)\n",
    "p_perm=perm.sphere.p(ADNI_est, tau, perm.id)\n",
    "print(p_perm)\n",
    "p_perm=perm.sphere.p(UKBB_est, tau, perm.id)\n",
    "print(p_perm)"
   ]
  }
 ],
 "metadata": {
  "kernelspec": {
   "display_name": "R [conda env:R] *",
   "language": "R",
   "name": "conda-env-R-r"
  },
  "language_info": {
   "codemirror_mode": "r",
   "file_extension": ".r",
   "mimetype": "text/x-r-source",
   "name": "R",
   "pygments_lexer": "r",
   "version": "3.6.1"
  }
 },
 "nbformat": 4,
 "nbformat_minor": 2
}
